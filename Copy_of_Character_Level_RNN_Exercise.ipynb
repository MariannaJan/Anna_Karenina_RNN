{
  "nbformat": 4,
  "nbformat_minor": 0,
  "metadata": {
    "colab": {
      "name": "Copy of Character_Level_RNN_Exercise.ipynb",
      "version": "0.3.2",
      "provenance": [],
      "collapsed_sections": [],
      "toc_visible": true,
      "include_colab_link": true
    },
    "kernelspec": {
      "name": "python3",
      "display_name": "Python 3"
    },
    "accelerator": "GPU"
  },
  "cells": [
    {
      "cell_type": "markdown",
      "metadata": {
        "id": "view-in-github",
        "colab_type": "text"
      },
      "source": [
        "<a href=\"https://colab.research.google.com/github/MariannaJan/Anna_Karenina_RNN/blob/master/Copy_of_Character_Level_RNN_Exercise.ipynb\" target=\"_parent\"><img src=\"https://colab.research.google.com/assets/colab-badge.svg\" alt=\"Open In Colab\"/></a>"
      ]
    },
    {
      "metadata": {
        "id": "znUYsYCoNhHs",
        "colab_type": "text"
      },
      "cell_type": "markdown",
      "source": [
        "# Character-Level LSTM in PyTorch\n",
        "\n",
        "In this notebook, I'll construct a character-level LSTM with PyTorch. The network will train character by character on some text, then generate new text character by character. As an example, I will train on Anna Karenina. **This model will be able to generate new text based on the text from the book!**\n",
        "\n",
        "This network is based off of Andrej Karpathy's [post on RNNs](http://karpathy.github.io/2015/05/21/rnn-effectiveness/) and [implementation in Torch](https://github.com/karpathy/char-rnn). Below is the general architecture of the character-wise RNN.\n",
        "\n",
        "<img src=\"assets/charseq.jpeg\" width=\"500\">"
      ]
    },
    {
      "metadata": {
        "id": "pv_w1VVCNhHu",
        "colab_type": "text"
      },
      "cell_type": "markdown",
      "source": [
        "First let's load in our required resources for data loading and model creation."
      ]
    },
    {
      "metadata": {
        "id": "11XpKWneNhHv",
        "colab_type": "code",
        "colab": {}
      },
      "cell_type": "code",
      "source": [
        "import numpy as np\n",
        "import torch\n",
        "from torch import nn\n",
        "import torch.nn.functional as F"
      ],
      "execution_count": 0,
      "outputs": []
    },
    {
      "metadata": {
        "id": "JxcnQmnGNmf1",
        "colab_type": "code",
        "colab": {
          "base_uri": "https://localhost:8080/",
          "height": 391
        },
        "outputId": "9a8f005f-d58b-4e8b-bd0a-148bebb99e4a"
      },
      "cell_type": "code",
      "source": [
        "#get the text file\n",
        "\n",
        "!wget -O anna.txt https://www.dropbox.com/s/klfy15ufzde73st/anna.txt?dl=0"
      ],
      "execution_count": 2,
      "outputs": [
        {
          "output_type": "stream",
          "text": [
            "--2019-03-15 17:48:50--  https://www.dropbox.com/s/klfy15ufzde73st/anna.txt?dl=0\n",
            "Resolving www.dropbox.com (www.dropbox.com)... 162.125.9.1, 2620:100:6031:1::a27d:5101\n",
            "Connecting to www.dropbox.com (www.dropbox.com)|162.125.9.1|:443... connected.\n",
            "HTTP request sent, awaiting response... 301 Moved Permanently\n",
            "Location: /s/raw/klfy15ufzde73st/anna.txt [following]\n",
            "--2019-03-15 17:48:51--  https://www.dropbox.com/s/raw/klfy15ufzde73st/anna.txt\n",
            "Reusing existing connection to www.dropbox.com:443.\n",
            "HTTP request sent, awaiting response... 302 Found\n",
            "Location: https://uc9a5cff1e6e25d71fd7eb628254.dl.dropboxusercontent.com/cd/0/inline/AdIrPrlOBqRxluToVSkTELnMSZkJjdCAsGXT1qHk3znwjy0sZZ4IiMYM-xMfaxFS3jT1KUvHkyRWjDTkC8Nx0L_4J1M5P6GNk4hBqkjYLRsyZA/file# [following]\n",
            "--2019-03-15 17:48:51--  https://uc9a5cff1e6e25d71fd7eb628254.dl.dropboxusercontent.com/cd/0/inline/AdIrPrlOBqRxluToVSkTELnMSZkJjdCAsGXT1qHk3znwjy0sZZ4IiMYM-xMfaxFS3jT1KUvHkyRWjDTkC8Nx0L_4J1M5P6GNk4hBqkjYLRsyZA/file\n",
            "Resolving uc9a5cff1e6e25d71fd7eb628254.dl.dropboxusercontent.com (uc9a5cff1e6e25d71fd7eb628254.dl.dropboxusercontent.com)... 162.125.8.6, 2620:100:601b:6::a27d:806\n",
            "Connecting to uc9a5cff1e6e25d71fd7eb628254.dl.dropboxusercontent.com (uc9a5cff1e6e25d71fd7eb628254.dl.dropboxusercontent.com)|162.125.8.6|:443... connected.\n",
            "HTTP request sent, awaiting response... 200 OK\n",
            "Length: 2025486 (1.9M) [text/plain]\n",
            "Saving to: ‘anna.txt’\n",
            "\n",
            "anna.txt            100%[===================>]   1.93M  7.66MB/s    in 0.3s    \n",
            "\n",
            "2019-03-15 17:48:52 (7.66 MB/s) - ‘anna.txt’ saved [2025486/2025486]\n",
            "\n"
          ],
          "name": "stdout"
        }
      ]
    },
    {
      "metadata": {
        "id": "EMc-YBq0NhH0",
        "colab_type": "text"
      },
      "cell_type": "markdown",
      "source": [
        "## Load in Data\n",
        "\n",
        "Then, we'll load the Anna Karenina text file and convert it into integers for our network to use. "
      ]
    },
    {
      "metadata": {
        "id": "nHU-iEWDNhH1",
        "colab_type": "code",
        "colab": {}
      },
      "cell_type": "code",
      "source": [
        "# open text file and read in data as `text`\n",
        "with open('anna.txt', 'r') as f:\n",
        "    text = f.read()"
      ],
      "execution_count": 0,
      "outputs": []
    },
    {
      "metadata": {
        "id": "K6EuCmRgNhH6",
        "colab_type": "text"
      },
      "cell_type": "markdown",
      "source": [
        "Let's check out the first 100 characters, make sure everything is peachy. According to the [American Book Review](http://americanbookreview.org/100bestlines.asp), this is the 6th best first line of a book ever."
      ]
    },
    {
      "metadata": {
        "id": "0hObRbFhNhH7",
        "colab_type": "code",
        "colab": {
          "base_uri": "https://localhost:8080/",
          "height": 35
        },
        "outputId": "fbc07d63-a326-4326-d68d-5d82e2998485"
      },
      "cell_type": "code",
      "source": [
        "text[:100]"
      ],
      "execution_count": 3,
      "outputs": [
        {
          "output_type": "execute_result",
          "data": {
            "text/plain": [
              "'Chapter 1\\n\\n\\nHappy families are all alike; every unhappy family is unhappy in its own\\nway.\\n\\nEverythin'"
            ]
          },
          "metadata": {
            "tags": []
          },
          "execution_count": 3
        }
      ]
    },
    {
      "metadata": {
        "id": "Dl5RJhm1NhH-",
        "colab_type": "text"
      },
      "cell_type": "markdown",
      "source": [
        "### Tokenization\n",
        "\n",
        "In the cells, below, I'm creating a couple **dictionaries** to convert the characters to and from integers. Encoding the characters as integers makes it easier to use as input in the network."
      ]
    },
    {
      "metadata": {
        "id": "N6NWqfpVNhH_",
        "colab_type": "code",
        "colab": {}
      },
      "cell_type": "code",
      "source": [
        "# encode the text and map each character to an integer and vice versa\n",
        "\n",
        "# we create two dictionaries:\n",
        "# 1. int2char, which maps integers to characters\n",
        "# 2. char2int, which maps characters to unique integers\n",
        "chars = tuple(set(text))\n",
        "int2char = dict(enumerate(chars))\n",
        "char2int = {ch: ii for ii, ch in int2char.items()}\n",
        "\n",
        "# encode the text\n",
        "encoded = np.array([char2int[ch] for ch in text])"
      ],
      "execution_count": 0,
      "outputs": []
    },
    {
      "metadata": {
        "id": "KitWeTYoNhIC",
        "colab_type": "text"
      },
      "cell_type": "markdown",
      "source": [
        "And we can see those same characters from above, encoded as integers."
      ]
    },
    {
      "metadata": {
        "id": "IPWbq5M5NhID",
        "colab_type": "code",
        "colab": {
          "base_uri": "https://localhost:8080/",
          "height": 123
        },
        "outputId": "59d15a98-f7a6-44b5-bf7c-a0f4fcc1d5e1"
      },
      "cell_type": "code",
      "source": [
        "encoded[:100]"
      ],
      "execution_count": 5,
      "outputs": [
        {
          "output_type": "execute_result",
          "data": {
            "text/plain": [
              "array([45, 18, 27,  1, 29, 73, 55, 59, 10, 74, 74, 74, 36, 27,  1,  1, 34,\n",
              "       59, 37, 27, 21, 42, 41, 42, 73, 48, 59, 27, 55, 73, 59, 27, 41, 41,\n",
              "       59, 27, 41, 42, 38, 73, 33, 59, 73, 72, 73, 55, 34, 59, 12, 13, 18,\n",
              "       27,  1,  1, 34, 59, 37, 27, 21, 42, 41, 34, 59, 42, 48, 59, 12, 13,\n",
              "       18, 27,  1,  1, 34, 59, 42, 13, 59, 42, 29, 48, 59, 22, 69, 13, 74,\n",
              "       69, 27, 34, 63, 74, 74, 14, 72, 73, 55, 34, 29, 18, 42, 13])"
            ]
          },
          "metadata": {
            "tags": []
          },
          "execution_count": 5
        }
      ]
    },
    {
      "metadata": {
        "id": "UsJzfW4iNhIG",
        "colab_type": "text"
      },
      "cell_type": "markdown",
      "source": [
        "## Pre-processing the data\n",
        "\n",
        "As you can see in our char-RNN image above, our LSTM expects an input that is **one-hot encoded** meaning that each character is converted into an integer (via our created dictionary) and *then* converted into a column vector where only it's corresponding integer index will have the value of 1 and the rest of the vector will be filled with 0's. Since we're one-hot encoding the data, let's make a function to do that!\n"
      ]
    },
    {
      "metadata": {
        "id": "NmAsmM7QNhIH",
        "colab_type": "code",
        "colab": {}
      },
      "cell_type": "code",
      "source": [
        "def one_hot_encode(arr, n_labels):\n",
        "    \n",
        "    # Initialize the the encoded array\n",
        "    one_hot = np.zeros((np.multiply(*arr.shape), n_labels), dtype=np.float32)\n",
        "    \n",
        "    # Fill the appropriate elements with ones\n",
        "    one_hot[np.arange(one_hot.shape[0]), arr.flatten()] = 1.\n",
        "    \n",
        "    # Finally reshape it to get back to the original array\n",
        "    one_hot = one_hot.reshape((*arr.shape, n_labels))\n",
        "    \n",
        "    return one_hot"
      ],
      "execution_count": 0,
      "outputs": []
    },
    {
      "metadata": {
        "id": "_k28vkPJNhIL",
        "colab_type": "code",
        "colab": {
          "base_uri": "https://localhost:8080/",
          "height": 70
        },
        "outputId": "b4b17e33-5204-4f1a-c86c-18fef6a86101"
      },
      "cell_type": "code",
      "source": [
        "# check that the function works as expected\n",
        "test_seq = np.array([[3, 5, 1]])\n",
        "one_hot = one_hot_encode(test_seq, 8)\n",
        "\n",
        "print(one_hot)"
      ],
      "execution_count": 7,
      "outputs": [
        {
          "output_type": "stream",
          "text": [
            "[[[0. 0. 0. 1. 0. 0. 0. 0.]\n",
            "  [0. 0. 0. 0. 0. 1. 0. 0.]\n",
            "  [0. 1. 0. 0. 0. 0. 0. 0.]]]\n"
          ],
          "name": "stdout"
        }
      ]
    },
    {
      "metadata": {
        "id": "qXGxZFgPNhIQ",
        "colab_type": "text"
      },
      "cell_type": "markdown",
      "source": [
        "## Making training mini-batches\n",
        "\n",
        "\n",
        "To train on this data, we also want to create mini-batches for training. Remember that we want our batches to be multiple sequences of some desired number of sequence steps. Considering a simple example, our batches would look like this:\n",
        "\n",
        "<img src=\"assets/sequence_batching@1x.png\" width=500px>\n",
        "\n",
        "\n",
        "<br>\n",
        "\n",
        "In this example, we'll take the encoded characters (passed in as the `arr` parameter) and split them into multiple sequences, given by `batch_size`. Each of our sequences will be `seq_length` long.\n",
        "\n",
        "### Creating Batches\n",
        "\n",
        "**1. The first thing we need to do is discard some of the text so we only have completely full mini-batches. **\n",
        "\n",
        "Each batch contains $N \\times M$ characters, where $N$ is the batch size (the number of sequences in a batch) and $M$ is the seq_length or number of time steps in a sequence. Then, to get the total number of batches, $K$, that we can make from the array `arr`, you divide the length of `arr` by the number of characters per batch. Once you know the number of batches, you can get the total number of characters to keep from `arr`, $N * M * K$.\n",
        "\n",
        "**2. After that, we need to split `arr` into $N$ batches. ** \n",
        "\n",
        "You can do this using `arr.reshape(size)` where `size` is a tuple containing the dimensions sizes of the reshaped array. We know we want $N$ sequences in a batch, so let's make that the size of the first dimension. For the second dimension, you can use `-1` as a placeholder in the size, it'll fill up the array with the appropriate data for you. After this, you should have an array that is $N \\times (M * K)$.\n",
        "\n",
        "**3. Now that we have this array, we can iterate through it to get our mini-batches. **\n",
        "\n",
        "The idea is each batch is a $N \\times M$ window on the $N \\times (M * K)$ array. For each subsequent batch, the window moves over by `seq_length`. We also want to create both the input and target arrays. Remember that the targets are just the inputs shifted over by one character. The way I like to do this window is use `range` to take steps of size `n_steps` from $0$ to `arr.shape[1]`, the total number of tokens in each sequence. That way, the integers you get from `range` always point to the start of a batch, and each window is `seq_length` wide.\n",
        "\n",
        "> **TODO:** Write the code for creating batches in the function below. The exercises in this notebook _will not be easy_. I've provided a notebook with solutions alongside this notebook. If you get stuck, checkout the solutions. The most important thing is that you don't copy and paste the code into here, **type out the solution code yourself.**"
      ]
    },
    {
      "metadata": {
        "id": "Q29UNetJNhIR",
        "colab_type": "code",
        "colab": {}
      },
      "cell_type": "code",
      "source": [
        "def get_batches(arr, batch_size, seq_length):\n",
        "    '''Create a generator that returns batches of size\n",
        "       batch_size x seq_length from arr.\n",
        "       \n",
        "       Arguments\n",
        "       ---------\n",
        "       arr: Array you want to make batches from\n",
        "       batch_size: Batch size, the number of sequences per batch\n",
        "       seq_length: Number of encoded chars in a sequence\n",
        "    '''\n",
        "    \n",
        "    ## TODO: Get the number of batches we can make\n",
        "    batch_size_total = batch_size * seq_length \n",
        "    \n",
        "    n_batches = len(arr) // batch_size_total\n",
        "    \n",
        "    ## TODO: Keep only enough characters to make full batches\n",
        "    arr = arr[:n_batches*batch_size_total]\n",
        "    \n",
        "    ## TODO: Reshape into batch_size rows\n",
        "    arr = arr.reshape((batch_size, -1))\n",
        "    \n",
        "    ## TODO: Iterate over the batches using a window of size seq_length\n",
        "    for n in range(0, arr.shape[1], seq_length):\n",
        "        # The features\n",
        "        x = arr[:, n:n+seq_length]\n",
        "        # The targets, shifted by one\n",
        "        y = np.zeros_like(x)\n",
        "        try:\n",
        "          y[:, :-1], y[:,-1] = x[:, 1:], arr[:, n+seq_length]\n",
        "        except IndexError:\n",
        "          y[:, :-1], y[:,-1] = x[:, 1:], arr[:, 0]\n",
        "        yield x, y"
      ],
      "execution_count": 0,
      "outputs": []
    },
    {
      "metadata": {
        "id": "qalUk1nLNhIU",
        "colab_type": "text"
      },
      "cell_type": "markdown",
      "source": [
        "### Test Your Implementation\n",
        "\n",
        "Now I'll make some data sets and we can check out what's going on as we batch data. Here, as an example, I'm going to use a batch size of 8 and 50 sequence steps."
      ]
    },
    {
      "metadata": {
        "id": "py9wC9eQNhIV",
        "colab_type": "code",
        "colab": {}
      },
      "cell_type": "code",
      "source": [
        "batches = get_batches(encoded, 8, 50)\n",
        "x, y = next(batches)"
      ],
      "execution_count": 0,
      "outputs": []
    },
    {
      "metadata": {
        "id": "Eja4jKE1NhIX",
        "colab_type": "code",
        "colab": {
          "base_uri": "https://localhost:8080/",
          "height": 353
        },
        "outputId": "c1cd2c30-c970-4f80-b284-f46f3175427b"
      },
      "cell_type": "code",
      "source": [
        "# printing out the first 10 items in a sequence\n",
        "print('x\\n', x[:10, :10])\n",
        "print('\\ny\\n', y[:10, :10])"
      ],
      "execution_count": 10,
      "outputs": [
        {
          "output_type": "stream",
          "text": [
            "x\n",
            " [[45 18 27  1 29 73 55 59 10 74]\n",
            " [48 22 13 59 29 18 27 29 59 27]\n",
            " [73 13  0 59 22 55 59 27 59 37]\n",
            " [48 59 29 18 73 59 26 18 42 73]\n",
            " [59 48 27 69 59 18 73 55 59 29]\n",
            " [26 12 48 48 42 22 13 59 27 13]\n",
            " [59 46 13 13 27 59 18 27  0 59]\n",
            " [68 51 41 22 13 48 38 34 63 59]]\n",
            "\n",
            "y\n",
            " [[18 27  1 29 73 55 59 10 74 74]\n",
            " [22 13 59 29 18 27 29 59 27 29]\n",
            " [13  0 59 22 55 59 27 59 37 22]\n",
            " [59 29 18 73 59 26 18 42 73 37]\n",
            " [48 27 69 59 18 73 55 59 29 73]\n",
            " [12 48 48 42 22 13 59 27 13  0]\n",
            " [46 13 13 27 59 18 27  0 59 48]\n",
            " [51 41 22 13 48 38 34 63 59 20]]\n"
          ],
          "name": "stdout"
        }
      ]
    },
    {
      "metadata": {
        "id": "dNq0WZVINhIa",
        "colab_type": "text"
      },
      "cell_type": "markdown",
      "source": [
        "If you implemented `get_batches` correctly, the above output should look something like \n",
        "```\n",
        "x\n",
        " [[25  8 60 11 45 27 28 73  1  2]\n",
        " [17  7 20 73 45  8 60 45 73 60]\n",
        " [27 20 80 73  7 28 73 60 73 65]\n",
        " [17 73 45  8 27 73 66  8 46 27]\n",
        " [73 17 60 12 73  8 27 28 73 45]\n",
        " [66 64 17 17 46  7 20 73 60 20]\n",
        " [73 76 20 20 60 73  8 60 80 73]\n",
        " [47 35 43  7 20 17 24 50 37 73]]\n",
        "\n",
        "y\n",
        " [[ 8 60 11 45 27 28 73  1  2  2]\n",
        " [ 7 20 73 45  8 60 45 73 60 45]\n",
        " [20 80 73  7 28 73 60 73 65  7]\n",
        " [73 45  8 27 73 66  8 46 27 65]\n",
        " [17 60 12 73  8 27 28 73 45 27]\n",
        " [64 17 17 46  7 20 73 60 20 80]\n",
        " [76 20 20 60 73  8 60 80 73 17]\n",
        " [35 43  7 20 17 24 50 37 73 36]]\n",
        " ```\n",
        " although the exact numbers may be different. Check to make sure the data is shifted over one step for `y`."
      ]
    },
    {
      "metadata": {
        "id": "Ps_9G5mlNhIa",
        "colab_type": "text"
      },
      "cell_type": "markdown",
      "source": [
        "---\n",
        "## Defining the network with PyTorch\n",
        "\n",
        "Below is where you'll define the network.\n",
        "\n",
        "<img src=\"assets/charRNN.png\" width=500px>\n",
        "\n",
        "Next, you'll use PyTorch to define the architecture of the network. We start by defining the layers and operations we want. Then, define a method for the forward pass. You've also been given a method for predicting characters."
      ]
    },
    {
      "metadata": {
        "id": "L69t4lbINhIb",
        "colab_type": "text"
      },
      "cell_type": "markdown",
      "source": [
        "### Model Structure\n",
        "\n",
        "In `__init__` the suggested structure is as follows:\n",
        "* Create and store the necessary dictionaries (this has been done for you)\n",
        "* Define an LSTM layer that takes as params: an input size (the number of characters), a hidden layer size `n_hidden`, a number of layers `n_layers`, a dropout probability `drop_prob`, and a batch_first boolean (True, since we are batching)\n",
        "* Define a dropout layer with `drop_prob`\n",
        "* Define a fully-connected layer with params: input size `n_hidden` and output size (the number of characters)\n",
        "* Finally, initialize the weights (again, this has been given)\n",
        "\n",
        "Note that some parameters have been named and given in the `__init__` function, and we use them and store them by doing something like `self.drop_prob = drop_prob`."
      ]
    },
    {
      "metadata": {
        "id": "yKc08uK8NhIc",
        "colab_type": "text"
      },
      "cell_type": "markdown",
      "source": [
        "---\n",
        "### LSTM Inputs/Outputs\n",
        "\n",
        "You can create a basic [LSTM layer](https://pytorch.org/docs/stable/nn.html#lstm) as follows\n",
        "\n",
        "```python\n",
        "self.lstm = nn.LSTM(input_size, n_hidden, n_layers, \n",
        "                            dropout=drop_prob, batch_first=True)\n",
        "```\n",
        "\n",
        "where `input_size` is the number of characters this cell expects to see as sequential input, and `n_hidden` is the number of units in the hidden layers in the cell. And we can add dropout by adding a dropout parameter with a specified probability; this will automatically add dropout to the inputs or outputs. Finally, in the `forward` function, we can stack up the LSTM cells into layers using `.view`. With this, you pass in a list of cells and it will send the output of one cell into the next cell.\n",
        "\n",
        "We also need to create an initial hidden state of all zeros. This is done like so\n",
        "\n",
        "```python\n",
        "self.init_hidden()\n",
        "```"
      ]
    },
    {
      "metadata": {
        "id": "_1-vpjs9NhId",
        "colab_type": "code",
        "colab": {
          "base_uri": "https://localhost:8080/",
          "height": 35
        },
        "outputId": "337c29c9-0a75-45be-a28c-15c322dd1063"
      },
      "cell_type": "code",
      "source": [
        "# check if GPU is available\n",
        "train_on_gpu = torch.cuda.is_available()\n",
        "if(train_on_gpu):\n",
        "    print('Training on GPU!')\n",
        "else: \n",
        "    print('No GPU available, training on CPU; consider making n_epochs very small.')"
      ],
      "execution_count": 11,
      "outputs": [
        {
          "output_type": "stream",
          "text": [
            "Training on GPU!\n"
          ],
          "name": "stdout"
        }
      ]
    },
    {
      "metadata": {
        "id": "GvfFzEPlNhIf",
        "colab_type": "code",
        "colab": {}
      },
      "cell_type": "code",
      "source": [
        "class CharRNN(nn.Module):\n",
        "    \n",
        "    def __init__(self, tokens, n_hidden=256, n_layers=2,\n",
        "                               drop_prob=0.5, lr=0.001):\n",
        "        super().__init__()\n",
        "        self.drop_prob = drop_prob\n",
        "        self.n_layers = n_layers\n",
        "        self.n_hidden = n_hidden\n",
        "        self.lr = lr\n",
        "        \n",
        "        # creating character dictionaries\n",
        "        self.chars = tokens\n",
        "        self.int2char = dict(enumerate(self.chars))\n",
        "        self.char2int = {ch: ii for ii, ch in self.int2char.items()}\n",
        "        \n",
        "        ## TODO: define the layers of the model\n",
        "        \n",
        "        self.lstm = nn.LSTM(len(self.chars), n_hidden, n_layers, dropout=drop_prob,  batch_first=True)\n",
        "        self.dropout = nn.Dropout(drop_prob)\n",
        "        self.fc = nn.Linear(n_hidden, len(self.chars))\n",
        "      \n",
        "    \n",
        "    def forward(self, x, hidden):\n",
        "        ''' Forward pass through the network. \n",
        "            These inputs are x, and the hidden/cell state `hidden`. '''\n",
        "                \n",
        "        ## TODO: Get the outputs and the new hidden state from the lstm\n",
        "        \n",
        "        r_output, hidden = self.lstm(x, hidden)\n",
        "        out = self.dropout(r_output)\n",
        "        out = out.contiguous().view(-1, self.n_hidden)\n",
        "        out = self.fc(out)\n",
        "        \n",
        "        # return the final output and the hidden state\n",
        "        return out, hidden\n",
        "    \n",
        "    \n",
        "    def init_hidden(self, batch_size):\n",
        "        ''' Initializes hidden state '''\n",
        "        # Create two new tensors with sizes n_layers x batch_size x n_hidden,\n",
        "        # initialized to zero, for hidden state and cell state of LSTM\n",
        "        weight = next(self.parameters()).data\n",
        "        \n",
        "        if (train_on_gpu):\n",
        "            hidden = (weight.new(self.n_layers, batch_size, self.n_hidden).zero_().cuda(),\n",
        "                  weight.new(self.n_layers, batch_size, self.n_hidden).zero_().cuda())\n",
        "        else:\n",
        "            hidden = (weight.new(self.n_layers, batch_size, self.n_hidden).zero_(),\n",
        "                      weight.new(self.n_layers, batch_size, self.n_hidden).zero_())\n",
        "        \n",
        "        return hidden\n",
        "        "
      ],
      "execution_count": 0,
      "outputs": []
    },
    {
      "metadata": {
        "id": "Gpf7dfGrNhIi",
        "colab_type": "text"
      },
      "cell_type": "markdown",
      "source": [
        "## Time to train\n",
        "\n",
        "The train function gives us the ability to set the number of epochs, the learning rate, and other parameters.\n",
        "\n",
        "Below we're using an Adam optimizer and cross entropy loss since we are looking at character class scores as output. We calculate the loss and perform backpropagation, as usual!\n",
        "\n",
        "A couple of details about training: \n",
        ">* Within the batch loop, we detach the hidden state from its history; this time setting it equal to a new *tuple* variable because an LSTM has a hidden state that is a tuple of the hidden and cell states.\n",
        "* We use [`clip_grad_norm_`](https://pytorch.org/docs/stable/_modules/torch/nn/utils/clip_grad.html) to help prevent exploding gradients."
      ]
    },
    {
      "metadata": {
        "id": "SPJwZ_kpNhIi",
        "colab_type": "code",
        "colab": {}
      },
      "cell_type": "code",
      "source": [
        "def train(net, data, epochs=10, batch_size=10, seq_length=50, lr=0.001, clip=5, val_frac=0.1, print_every=10):\n",
        "    ''' Training a network \n",
        "    \n",
        "        Arguments\n",
        "        ---------\n",
        "        \n",
        "        net: CharRNN network\n",
        "        data: text data to train the network\n",
        "        epochs: Number of epochs to train\n",
        "        batch_size: Number of mini-sequences per mini-batch, aka batch size\n",
        "        seq_length: Number of character steps per mini-batch\n",
        "        lr: learning rate\n",
        "        clip: gradient clipping\n",
        "        val_frac: Fraction of data to hold out for validation\n",
        "        print_every: Number of steps for printing training and validation loss\n",
        "    \n",
        "    '''\n",
        "    net.train()\n",
        "    \n",
        "    opt = torch.optim.Adam(net.parameters(), lr=lr)\n",
        "    criterion = nn.CrossEntropyLoss()\n",
        "    \n",
        "    # create training and validation data\n",
        "    val_idx = int(len(data)*(1-val_frac))\n",
        "    data, val_data = data[:val_idx], data[val_idx:]\n",
        "    \n",
        "    if(train_on_gpu):\n",
        "        net.cuda()\n",
        "    \n",
        "    counter = 0\n",
        "    n_chars = len(net.chars)\n",
        "    for e in range(epochs):\n",
        "        # initialize hidden state\n",
        "        h = net.init_hidden(batch_size)\n",
        "        \n",
        "        for x, y in get_batches(data, batch_size, seq_length):\n",
        "            counter += 1\n",
        "            \n",
        "            # One-hot encode our data and make them Torch tensors\n",
        "            x = one_hot_encode(x, n_chars)\n",
        "            inputs, targets = torch.from_numpy(x), torch.from_numpy(y)\n",
        "            \n",
        "            if(train_on_gpu):\n",
        "                inputs, targets = inputs.cuda(), targets.cuda()\n",
        "\n",
        "            # Creating new variables for the hidden state, otherwise\n",
        "            # we'd backprop through the entire training history\n",
        "            h = tuple([each.data for each in h])\n",
        "\n",
        "            # zero accumulated gradients\n",
        "            net.zero_grad()\n",
        "            \n",
        "            # get the output from the model\n",
        "            output, h = net(inputs, h)\n",
        "            \n",
        "            # calculate the loss and perform backprop\n",
        "            loss = criterion(output, targets.view(batch_size*seq_length).long())\n",
        "            loss.backward()\n",
        "            # `clip_grad_norm` helps prevent the exploding gradient problem in RNNs / LSTMs.\n",
        "            nn.utils.clip_grad_norm_(net.parameters(), clip)\n",
        "            opt.step()\n",
        "            \n",
        "            # loss stats\n",
        "            if counter % print_every == 0:\n",
        "                # Get validation loss\n",
        "                val_h = net.init_hidden(batch_size)\n",
        "                val_losses = []\n",
        "                net.eval()\n",
        "                for x, y in get_batches(val_data, batch_size, seq_length):\n",
        "                    # One-hot encode our data and make them Torch tensors\n",
        "                    x = one_hot_encode(x, n_chars)\n",
        "                    x, y = torch.from_numpy(x), torch.from_numpy(y)\n",
        "                    \n",
        "                    # Creating new variables for the hidden state, otherwise\n",
        "                    # we'd backprop through the entire training history\n",
        "                    val_h = tuple([each.data for each in val_h])\n",
        "                    \n",
        "                    inputs, targets = x, y\n",
        "                    if(train_on_gpu):\n",
        "                        inputs, targets = inputs.cuda(), targets.cuda()\n",
        "\n",
        "                    output, val_h = net(inputs, val_h)\n",
        "                    val_loss = criterion(output, targets.view(batch_size*seq_length).long())\n",
        "                \n",
        "                    val_losses.append(val_loss.item())\n",
        "                \n",
        "                net.train() # reset to train mode after iterationg through validation data\n",
        "                \n",
        "                print(\"Epoch: {}/{}...\".format(e+1, epochs),\n",
        "                      \"Step: {}...\".format(counter),\n",
        "                      \"Loss: {:.4f}...\".format(loss.item()),\n",
        "                      \"Val Loss: {:.4f}\".format(np.mean(val_losses)))"
      ],
      "execution_count": 0,
      "outputs": []
    },
    {
      "metadata": {
        "id": "6pVovEaWNhIm",
        "colab_type": "text"
      },
      "cell_type": "markdown",
      "source": [
        "## Instantiating the model\n",
        "\n",
        "Now we can actually train the network. First we'll create the network itself, with some given hyperparameters. Then, define the mini-batches sizes, and start training!"
      ]
    },
    {
      "metadata": {
        "id": "_lMm16i4NhIn",
        "colab_type": "code",
        "colab": {
          "base_uri": "https://localhost:8080/",
          "height": 105
        },
        "outputId": "310ed382-0e03-4d82-8310-b827374b3ffb"
      },
      "cell_type": "code",
      "source": [
        "## TODO: set your model hyperparameters\n",
        "# define and print the net\n",
        "n_hidden=512\n",
        "n_layers=2\n",
        "\n",
        "net = CharRNN(chars, n_hidden, n_layers)\n",
        "print(net)"
      ],
      "execution_count": 14,
      "outputs": [
        {
          "output_type": "stream",
          "text": [
            "CharRNN(\n",
            "  (lstm): LSTM(83, 512, num_layers=2, batch_first=True, dropout=0.5)\n",
            "  (dropout): Dropout(p=0.5)\n",
            "  (fc): Linear(in_features=512, out_features=83, bias=True)\n",
            ")\n"
          ],
          "name": "stdout"
        }
      ]
    },
    {
      "metadata": {
        "id": "gH8HwxTwNhIr",
        "colab_type": "text"
      },
      "cell_type": "markdown",
      "source": [
        "### Set your training hyperparameters!"
      ]
    },
    {
      "metadata": {
        "scrolled": true,
        "id": "figIth40NhIu",
        "colab_type": "code",
        "colab": {}
      },
      "cell_type": "code",
      "source": [
        "batch_size = 128\n",
        "seq_length = 100\n",
        "n_epochs =  20 # start small if you are just testing initial behavior\n",
        "\n"
      ],
      "execution_count": 0,
      "outputs": []
    },
    {
      "metadata": {
        "id": "646fwhMlfvI5",
        "colab_type": "code",
        "colab": {
          "base_uri": "https://localhost:8080/",
          "height": 4935
        },
        "outputId": "097daaf3-f538-447a-fcd5-42f87620a4ce"
      },
      "cell_type": "code",
      "source": [
        "# train the model\n",
        "train(net, encoded, epochs=n_epochs, batch_size=batch_size, seq_length=seq_length, lr=0.001, print_every=10)"
      ],
      "execution_count": 16,
      "outputs": [
        {
          "output_type": "stream",
          "text": [
            "Epoch: 1/20... Step: 10... Loss: 3.2671... Val Loss: 3.1733\n",
            "Epoch: 1/20... Step: 20... Loss: 3.1412... Val Loss: 3.1313\n",
            "Epoch: 1/20... Step: 30... Loss: 3.1402... Val Loss: 3.1214\n",
            "Epoch: 1/20... Step: 40... Loss: 3.1156... Val Loss: 3.1191\n",
            "Epoch: 1/20... Step: 50... Loss: 3.1442... Val Loss: 3.1169\n",
            "Epoch: 1/20... Step: 60... Loss: 3.1148... Val Loss: 3.1140\n",
            "Epoch: 1/20... Step: 70... Loss: 3.1017... Val Loss: 3.1107\n",
            "Epoch: 1/20... Step: 80... Loss: 3.1135... Val Loss: 3.1028\n",
            "Epoch: 1/20... Step: 90... Loss: 3.1004... Val Loss: 3.0828\n",
            "Epoch: 1/20... Step: 100... Loss: 3.0506... Val Loss: 3.0305\n",
            "Epoch: 1/20... Step: 110... Loss: 2.9677... Val Loss: 2.9563\n",
            "Epoch: 1/20... Step: 120... Loss: 2.8301... Val Loss: 2.8109\n",
            "Epoch: 1/20... Step: 130... Loss: 2.7569... Val Loss: 2.7061\n",
            "Epoch: 2/20... Step: 140... Loss: 2.6414... Val Loss: 2.5886\n",
            "Epoch: 2/20... Step: 150... Loss: 2.5651... Val Loss: 2.5189\n",
            "Epoch: 2/20... Step: 160... Loss: 2.5162... Val Loss: 2.4819\n",
            "Epoch: 2/20... Step: 170... Loss: 2.4610... Val Loss: 2.4461\n",
            "Epoch: 2/20... Step: 180... Loss: 2.4417... Val Loss: 2.4085\n",
            "Epoch: 2/20... Step: 190... Loss: 2.3864... Val Loss: 2.3770\n",
            "Epoch: 2/20... Step: 200... Loss: 2.3898... Val Loss: 2.3486\n",
            "Epoch: 2/20... Step: 210... Loss: 2.3495... Val Loss: 2.3235\n",
            "Epoch: 2/20... Step: 220... Loss: 2.3157... Val Loss: 2.2929\n",
            "Epoch: 2/20... Step: 230... Loss: 2.3044... Val Loss: 2.2674\n",
            "Epoch: 2/20... Step: 240... Loss: 2.2812... Val Loss: 2.2487\n",
            "Epoch: 2/20... Step: 250... Loss: 2.2230... Val Loss: 2.2244\n",
            "Epoch: 2/20... Step: 260... Loss: 2.1940... Val Loss: 2.1978\n",
            "Epoch: 2/20... Step: 270... Loss: 2.2026... Val Loss: 2.1723\n",
            "Epoch: 3/20... Step: 280... Loss: 2.2060... Val Loss: 2.1530\n",
            "Epoch: 3/20... Step: 290... Loss: 2.1688... Val Loss: 2.1286\n",
            "Epoch: 3/20... Step: 300... Loss: 2.1547... Val Loss: 2.1116\n",
            "Epoch: 3/20... Step: 310... Loss: 2.1196... Val Loss: 2.0925\n",
            "Epoch: 3/20... Step: 320... Loss: 2.0861... Val Loss: 2.0722\n",
            "Epoch: 3/20... Step: 330... Loss: 2.0592... Val Loss: 2.0617\n",
            "Epoch: 3/20... Step: 340... Loss: 2.0844... Val Loss: 2.0408\n",
            "Epoch: 3/20... Step: 350... Loss: 2.0642... Val Loss: 2.0199\n",
            "Epoch: 3/20... Step: 360... Loss: 1.9942... Val Loss: 2.0037\n",
            "Epoch: 3/20... Step: 370... Loss: 2.0223... Val Loss: 1.9881\n",
            "Epoch: 3/20... Step: 380... Loss: 2.0044... Val Loss: 1.9738\n",
            "Epoch: 3/20... Step: 390... Loss: 1.9739... Val Loss: 1.9588\n",
            "Epoch: 3/20... Step: 400... Loss: 1.9423... Val Loss: 1.9409\n",
            "Epoch: 3/20... Step: 410... Loss: 1.9565... Val Loss: 1.9279\n",
            "Epoch: 4/20... Step: 420... Loss: 1.9496... Val Loss: 1.9130\n",
            "Epoch: 4/20... Step: 430... Loss: 1.9334... Val Loss: 1.8998\n",
            "Epoch: 4/20... Step: 440... Loss: 1.9150... Val Loss: 1.8908\n",
            "Epoch: 4/20... Step: 450... Loss: 1.8593... Val Loss: 1.8723\n",
            "Epoch: 4/20... Step: 460... Loss: 1.8542... Val Loss: 1.8637\n",
            "Epoch: 4/20... Step: 470... Loss: 1.8832... Val Loss: 1.8563\n",
            "Epoch: 4/20... Step: 480... Loss: 1.8582... Val Loss: 1.8436\n",
            "Epoch: 4/20... Step: 490... Loss: 1.8654... Val Loss: 1.8312\n",
            "Epoch: 4/20... Step: 500... Loss: 1.8606... Val Loss: 1.8239\n",
            "Epoch: 4/20... Step: 510... Loss: 1.8422... Val Loss: 1.8110\n",
            "Epoch: 4/20... Step: 520... Loss: 1.8501... Val Loss: 1.8022\n",
            "Epoch: 4/20... Step: 530... Loss: 1.8092... Val Loss: 1.7914\n",
            "Epoch: 4/20... Step: 540... Loss: 1.7805... Val Loss: 1.7801\n",
            "Epoch: 4/20... Step: 550... Loss: 1.8162... Val Loss: 1.7673\n",
            "Epoch: 5/20... Step: 560... Loss: 1.7809... Val Loss: 1.7616\n",
            "Epoch: 5/20... Step: 570... Loss: 1.7674... Val Loss: 1.7509\n",
            "Epoch: 5/20... Step: 580... Loss: 1.7455... Val Loss: 1.7407\n",
            "Epoch: 5/20... Step: 590... Loss: 1.7484... Val Loss: 1.7330\n",
            "Epoch: 5/20... Step: 600... Loss: 1.7458... Val Loss: 1.7246\n",
            "Epoch: 5/20... Step: 610... Loss: 1.7287... Val Loss: 1.7172\n",
            "Epoch: 5/20... Step: 620... Loss: 1.7324... Val Loss: 1.7099\n",
            "Epoch: 5/20... Step: 630... Loss: 1.7485... Val Loss: 1.7071\n",
            "Epoch: 5/20... Step: 640... Loss: 1.7104... Val Loss: 1.6990\n",
            "Epoch: 5/20... Step: 650... Loss: 1.7033... Val Loss: 1.6920\n",
            "Epoch: 5/20... Step: 660... Loss: 1.6699... Val Loss: 1.6806\n",
            "Epoch: 5/20... Step: 670... Loss: 1.7043... Val Loss: 1.6762\n",
            "Epoch: 5/20... Step: 680... Loss: 1.6955... Val Loss: 1.6704\n",
            "Epoch: 5/20... Step: 690... Loss: 1.6745... Val Loss: 1.6600\n",
            "Epoch: 6/20... Step: 700... Loss: 1.6838... Val Loss: 1.6537\n",
            "Epoch: 6/20... Step: 710... Loss: 1.6610... Val Loss: 1.6487\n",
            "Epoch: 6/20... Step: 720... Loss: 1.6456... Val Loss: 1.6424\n",
            "Epoch: 6/20... Step: 730... Loss: 1.6681... Val Loss: 1.6351\n",
            "Epoch: 6/20... Step: 740... Loss: 1.6299... Val Loss: 1.6322\n",
            "Epoch: 6/20... Step: 750... Loss: 1.6144... Val Loss: 1.6249\n",
            "Epoch: 6/20... Step: 760... Loss: 1.6523... Val Loss: 1.6182\n",
            "Epoch: 6/20... Step: 770... Loss: 1.6353... Val Loss: 1.6177\n",
            "Epoch: 6/20... Step: 780... Loss: 1.6106... Val Loss: 1.6083\n",
            "Epoch: 6/20... Step: 790... Loss: 1.6103... Val Loss: 1.6075\n",
            "Epoch: 6/20... Step: 800... Loss: 1.6157... Val Loss: 1.6008\n",
            "Epoch: 6/20... Step: 810... Loss: 1.6052... Val Loss: 1.5948\n",
            "Epoch: 6/20... Step: 820... Loss: 1.5698... Val Loss: 1.5908\n",
            "Epoch: 6/20... Step: 830... Loss: 1.6063... Val Loss: 1.5852\n",
            "Epoch: 7/20... Step: 840... Loss: 1.5678... Val Loss: 1.5795\n",
            "Epoch: 7/20... Step: 850... Loss: 1.5772... Val Loss: 1.5755\n",
            "Epoch: 7/20... Step: 860... Loss: 1.5681... Val Loss: 1.5731\n",
            "Epoch: 7/20... Step: 870... Loss: 1.5804... Val Loss: 1.5674\n",
            "Epoch: 7/20... Step: 880... Loss: 1.5720... Val Loss: 1.5665\n",
            "Epoch: 7/20... Step: 890... Loss: 1.5702... Val Loss: 1.5602\n",
            "Epoch: 7/20... Step: 900... Loss: 1.5569... Val Loss: 1.5547\n",
            "Epoch: 7/20... Step: 910... Loss: 1.5264... Val Loss: 1.5552\n",
            "Epoch: 7/20... Step: 920... Loss: 1.5553... Val Loss: 1.5474\n",
            "Epoch: 7/20... Step: 930... Loss: 1.5392... Val Loss: 1.5425\n",
            "Epoch: 7/20... Step: 940... Loss: 1.5427... Val Loss: 1.5413\n",
            "Epoch: 7/20... Step: 950... Loss: 1.5565... Val Loss: 1.5363\n",
            "Epoch: 7/20... Step: 960... Loss: 1.5571... Val Loss: 1.5326\n",
            "Epoch: 7/20... Step: 970... Loss: 1.5523... Val Loss: 1.5299\n",
            "Epoch: 8/20... Step: 980... Loss: 1.5324... Val Loss: 1.5242\n",
            "Epoch: 8/20... Step: 990... Loss: 1.5277... Val Loss: 1.5206\n",
            "Epoch: 8/20... Step: 1000... Loss: 1.5124... Val Loss: 1.5175\n",
            "Epoch: 8/20... Step: 1010... Loss: 1.5518... Val Loss: 1.5137\n",
            "Epoch: 8/20... Step: 1020... Loss: 1.5260... Val Loss: 1.5119\n",
            "Epoch: 8/20... Step: 1030... Loss: 1.5057... Val Loss: 1.5079\n",
            "Epoch: 8/20... Step: 1040... Loss: 1.5086... Val Loss: 1.5065\n",
            "Epoch: 8/20... Step: 1050... Loss: 1.4905... Val Loss: 1.5022\n",
            "Epoch: 8/20... Step: 1060... Loss: 1.4988... Val Loss: 1.4993\n",
            "Epoch: 8/20... Step: 1070... Loss: 1.5070... Val Loss: 1.4989\n",
            "Epoch: 8/20... Step: 1080... Loss: 1.5001... Val Loss: 1.4944\n",
            "Epoch: 8/20... Step: 1090... Loss: 1.4861... Val Loss: 1.4902\n",
            "Epoch: 8/20... Step: 1100... Loss: 1.4720... Val Loss: 1.4847\n",
            "Epoch: 8/20... Step: 1110... Loss: 1.4809... Val Loss: 1.4847\n",
            "Epoch: 9/20... Step: 1120... Loss: 1.5029... Val Loss: 1.4823\n",
            "Epoch: 9/20... Step: 1130... Loss: 1.4932... Val Loss: 1.4805\n",
            "Epoch: 9/20... Step: 1140... Loss: 1.4815... Val Loss: 1.4754\n",
            "Epoch: 9/20... Step: 1150... Loss: 1.5058... Val Loss: 1.4715\n",
            "Epoch: 9/20... Step: 1160... Loss: 1.4599... Val Loss: 1.4681\n",
            "Epoch: 9/20... Step: 1170... Loss: 1.4711... Val Loss: 1.4687\n",
            "Epoch: 9/20... Step: 1180... Loss: 1.4550... Val Loss: 1.4692\n",
            "Epoch: 9/20... Step: 1190... Loss: 1.4924... Val Loss: 1.4640\n",
            "Epoch: 9/20... Step: 1200... Loss: 1.4488... Val Loss: 1.4614\n",
            "Epoch: 9/20... Step: 1210... Loss: 1.4570... Val Loss: 1.4572\n",
            "Epoch: 9/20... Step: 1220... Loss: 1.4459... Val Loss: 1.4555\n",
            "Epoch: 9/20... Step: 1230... Loss: 1.4308... Val Loss: 1.4510\n",
            "Epoch: 9/20... Step: 1240... Loss: 1.4421... Val Loss: 1.4462\n",
            "Epoch: 9/20... Step: 1250... Loss: 1.4484... Val Loss: 1.4459\n",
            "Epoch: 10/20... Step: 1260... Loss: 1.4453... Val Loss: 1.4487\n",
            "Epoch: 10/20... Step: 1270... Loss: 1.4458... Val Loss: 1.4431\n",
            "Epoch: 10/20... Step: 1280... Loss: 1.4582... Val Loss: 1.4405\n",
            "Epoch: 10/20... Step: 1290... Loss: 1.4374... Val Loss: 1.4415\n",
            "Epoch: 10/20... Step: 1300... Loss: 1.4253... Val Loss: 1.4357\n",
            "Epoch: 10/20... Step: 1310... Loss: 1.4374... Val Loss: 1.4355\n",
            "Epoch: 10/20... Step: 1320... Loss: 1.4060... Val Loss: 1.4358\n",
            "Epoch: 10/20... Step: 1330... Loss: 1.4095... Val Loss: 1.4311\n",
            "Epoch: 10/20... Step: 1340... Loss: 1.3938... Val Loss: 1.4283\n",
            "Epoch: 10/20... Step: 1350... Loss: 1.3958... Val Loss: 1.4293\n",
            "Epoch: 10/20... Step: 1360... Loss: 1.3968... Val Loss: 1.4260\n",
            "Epoch: 10/20... Step: 1370... Loss: 1.3908... Val Loss: 1.4226\n",
            "Epoch: 10/20... Step: 1380... Loss: 1.4327... Val Loss: 1.4206\n",
            "Epoch: 10/20... Step: 1390... Loss: 1.4404... Val Loss: 1.4194\n",
            "Epoch: 11/20... Step: 1400... Loss: 1.4393... Val Loss: 1.4202\n",
            "Epoch: 11/20... Step: 1410... Loss: 1.4508... Val Loss: 1.4163\n",
            "Epoch: 11/20... Step: 1420... Loss: 1.4353... Val Loss: 1.4140\n",
            "Epoch: 11/20... Step: 1430... Loss: 1.3969... Val Loss: 1.4153\n",
            "Epoch: 11/20... Step: 1440... Loss: 1.4217... Val Loss: 1.4096\n",
            "Epoch: 11/20... Step: 1450... Loss: 1.3631... Val Loss: 1.4108\n",
            "Epoch: 11/20... Step: 1460... Loss: 1.3884... Val Loss: 1.4081\n",
            "Epoch: 11/20... Step: 1470... Loss: 1.3752... Val Loss: 1.4081\n",
            "Epoch: 11/20... Step: 1480... Loss: 1.3930... Val Loss: 1.4043\n",
            "Epoch: 11/20... Step: 1490... Loss: 1.3888... Val Loss: 1.4062\n",
            "Epoch: 11/20... Step: 1500... Loss: 1.3659... Val Loss: 1.4035\n",
            "Epoch: 11/20... Step: 1510... Loss: 1.3638... Val Loss: 1.3996\n",
            "Epoch: 11/20... Step: 1520... Loss: 1.3883... Val Loss: 1.3958\n",
            "Epoch: 12/20... Step: 1530... Loss: 1.4423... Val Loss: 1.3957\n",
            "Epoch: 12/20... Step: 1540... Loss: 1.3941... Val Loss: 1.3969\n",
            "Epoch: 12/20... Step: 1550... Loss: 1.3983... Val Loss: 1.3922\n",
            "Epoch: 12/20... Step: 1560... Loss: 1.4096... Val Loss: 1.3897\n",
            "Epoch: 12/20... Step: 1570... Loss: 1.3515... Val Loss: 1.3923\n",
            "Epoch: 12/20... Step: 1580... Loss: 1.3346... Val Loss: 1.3864\n",
            "Epoch: 12/20... Step: 1590... Loss: 1.3303... Val Loss: 1.3913\n",
            "Epoch: 12/20... Step: 1600... Loss: 1.3627... Val Loss: 1.3867\n",
            "Epoch: 12/20... Step: 1610... Loss: 1.3469... Val Loss: 1.3867\n",
            "Epoch: 12/20... Step: 1620... Loss: 1.3539... Val Loss: 1.3802\n",
            "Epoch: 12/20... Step: 1630... Loss: 1.3698... Val Loss: 1.3809\n",
            "Epoch: 12/20... Step: 1640... Loss: 1.3525... Val Loss: 1.3806\n",
            "Epoch: 12/20... Step: 1650... Loss: 1.3256... Val Loss: 1.3789\n",
            "Epoch: 12/20... Step: 1660... Loss: 1.3698... Val Loss: 1.3733\n",
            "Epoch: 13/20... Step: 1670... Loss: 1.3481... Val Loss: 1.3778\n",
            "Epoch: 13/20... Step: 1680... Loss: 1.3598... Val Loss: 1.3748\n",
            "Epoch: 13/20... Step: 1690... Loss: 1.3350... Val Loss: 1.3725\n",
            "Epoch: 13/20... Step: 1700... Loss: 1.3377... Val Loss: 1.3718\n",
            "Epoch: 13/20... Step: 1710... Loss: 1.3217... Val Loss: 1.3754\n",
            "Epoch: 13/20... Step: 1720... Loss: 1.3346... Val Loss: 1.3703\n",
            "Epoch: 13/20... Step: 1730... Loss: 1.3661... Val Loss: 1.3678\n",
            "Epoch: 13/20... Step: 1740... Loss: 1.3306... Val Loss: 1.3683\n",
            "Epoch: 13/20... Step: 1750... Loss: 1.3066... Val Loss: 1.3680\n",
            "Epoch: 13/20... Step: 1760... Loss: 1.3389... Val Loss: 1.3633\n",
            "Epoch: 13/20... Step: 1770... Loss: 1.3543... Val Loss: 1.3649\n",
            "Epoch: 13/20... Step: 1780... Loss: 1.3267... Val Loss: 1.3648\n",
            "Epoch: 13/20... Step: 1790... Loss: 1.3058... Val Loss: 1.3646\n",
            "Epoch: 13/20... Step: 1800... Loss: 1.3264... Val Loss: 1.3578\n",
            "Epoch: 14/20... Step: 1810... Loss: 1.3409... Val Loss: 1.3599\n",
            "Epoch: 14/20... Step: 1820... Loss: 1.3206... Val Loss: 1.3561\n",
            "Epoch: 14/20... Step: 1830... Loss: 1.3406... Val Loss: 1.3577\n",
            "Epoch: 14/20... Step: 1840... Loss: 1.2879... Val Loss: 1.3578\n",
            "Epoch: 14/20... Step: 1850... Loss: 1.2744... Val Loss: 1.3565\n",
            "Epoch: 14/20... Step: 1860... Loss: 1.3253... Val Loss: 1.3538\n",
            "Epoch: 14/20... Step: 1870... Loss: 1.3406... Val Loss: 1.3531\n",
            "Epoch: 14/20... Step: 1880... Loss: 1.3237... Val Loss: 1.3533\n",
            "Epoch: 14/20... Step: 1890... Loss: 1.3428... Val Loss: 1.3518\n",
            "Epoch: 14/20... Step: 1900... Loss: 1.3273... Val Loss: 1.3492\n",
            "Epoch: 14/20... Step: 1910... Loss: 1.3335... Val Loss: 1.3479\n",
            "Epoch: 14/20... Step: 1920... Loss: 1.3164... Val Loss: 1.3491\n",
            "Epoch: 14/20... Step: 1930... Loss: 1.2827... Val Loss: 1.3483\n",
            "Epoch: 14/20... Step: 1940... Loss: 1.3331... Val Loss: 1.3444\n",
            "Epoch: 15/20... Step: 1950... Loss: 1.3076... Val Loss: 1.3466\n",
            "Epoch: 15/20... Step: 1960... Loss: 1.3158... Val Loss: 1.3449\n",
            "Epoch: 15/20... Step: 1970... Loss: 1.3012... Val Loss: 1.3416\n",
            "Epoch: 15/20... Step: 1980... Loss: 1.3040... Val Loss: 1.3446\n",
            "Epoch: 15/20... Step: 1990... Loss: 1.3009... Val Loss: 1.3429\n",
            "Epoch: 15/20... Step: 2000... Loss: 1.2850... Val Loss: 1.3437\n",
            "Epoch: 15/20... Step: 2010... Loss: 1.3025... Val Loss: 1.3421\n",
            "Epoch: 15/20... Step: 2020... Loss: 1.3131... Val Loss: 1.3425\n",
            "Epoch: 15/20... Step: 2030... Loss: 1.2870... Val Loss: 1.3393\n",
            "Epoch: 15/20... Step: 2040... Loss: 1.3040... Val Loss: 1.3347\n",
            "Epoch: 15/20... Step: 2050... Loss: 1.2806... Val Loss: 1.3385\n",
            "Epoch: 15/20... Step: 2060... Loss: 1.2994... Val Loss: 1.3344\n",
            "Epoch: 15/20... Step: 2070... Loss: 1.3060... Val Loss: 1.3369\n",
            "Epoch: 15/20... Step: 2080... Loss: 1.2988... Val Loss: 1.3326\n",
            "Epoch: 16/20... Step: 2090... Loss: 1.2994... Val Loss: 1.3360\n",
            "Epoch: 16/20... Step: 2100... Loss: 1.2770... Val Loss: 1.3324\n",
            "Epoch: 16/20... Step: 2110... Loss: 1.2778... Val Loss: 1.3342\n",
            "Epoch: 16/20... Step: 2120... Loss: 1.2923... Val Loss: 1.3325\n",
            "Epoch: 16/20... Step: 2130... Loss: 1.2669... Val Loss: 1.3319\n",
            "Epoch: 16/20... Step: 2140... Loss: 1.2717... Val Loss: 1.3282\n",
            "Epoch: 16/20... Step: 2150... Loss: 1.3011... Val Loss: 1.3285\n",
            "Epoch: 16/20... Step: 2160... Loss: 1.2769... Val Loss: 1.3312\n",
            "Epoch: 16/20... Step: 2170... Loss: 1.2841... Val Loss: 1.3273\n",
            "Epoch: 16/20... Step: 2180... Loss: 1.2733... Val Loss: 1.3257\n",
            "Epoch: 16/20... Step: 2190... Loss: 1.2921... Val Loss: 1.3243\n",
            "Epoch: 16/20... Step: 2200... Loss: 1.2685... Val Loss: 1.3223\n",
            "Epoch: 16/20... Step: 2210... Loss: 1.2365... Val Loss: 1.3257\n",
            "Epoch: 16/20... Step: 2220... Loss: 1.2798... Val Loss: 1.3235\n",
            "Epoch: 17/20... Step: 2230... Loss: 1.2626... Val Loss: 1.3260\n",
            "Epoch: 17/20... Step: 2240... Loss: 1.2686... Val Loss: 1.3237\n",
            "Epoch: 17/20... Step: 2250... Loss: 1.2528... Val Loss: 1.3251\n",
            "Epoch: 17/20... Step: 2260... Loss: 1.2674... Val Loss: 1.3244\n",
            "Epoch: 17/20... Step: 2270... Loss: 1.2767... Val Loss: 1.3236\n",
            "Epoch: 17/20... Step: 2280... Loss: 1.2796... Val Loss: 1.3164\n",
            "Epoch: 17/20... Step: 2290... Loss: 1.2757... Val Loss: 1.3164\n",
            "Epoch: 17/20... Step: 2300... Loss: 1.2390... Val Loss: 1.3192\n",
            "Epoch: 17/20... Step: 2310... Loss: 1.2709... Val Loss: 1.3169\n",
            "Epoch: 17/20... Step: 2320... Loss: 1.2559... Val Loss: 1.3146\n",
            "Epoch: 17/20... Step: 2330... Loss: 1.2577... Val Loss: 1.3187\n",
            "Epoch: 17/20... Step: 2340... Loss: 1.2769... Val Loss: 1.3129\n",
            "Epoch: 17/20... Step: 2350... Loss: 1.2710... Val Loss: 1.3116\n",
            "Epoch: 17/20... Step: 2360... Loss: 1.2847... Val Loss: 1.3143\n",
            "Epoch: 18/20... Step: 2370... Loss: 1.2472... Val Loss: 1.3157\n",
            "Epoch: 18/20... Step: 2380... Loss: 1.2551... Val Loss: 1.3129\n",
            "Epoch: 18/20... Step: 2390... Loss: 1.2662... Val Loss: 1.3163\n",
            "Epoch: 18/20... Step: 2400... Loss: 1.2799... Val Loss: 1.3120\n",
            "Epoch: 18/20... Step: 2410... Loss: 1.2735... Val Loss: 1.3139\n",
            "Epoch: 18/20... Step: 2420... Loss: 1.2555... Val Loss: 1.3115\n",
            "Epoch: 18/20... Step: 2430... Loss: 1.2673... Val Loss: 1.3084\n",
            "Epoch: 18/20... Step: 2440... Loss: 1.2459... Val Loss: 1.3111\n",
            "Epoch: 18/20... Step: 2450... Loss: 1.2482... Val Loss: 1.3088\n",
            "Epoch: 18/20... Step: 2460... Loss: 1.2650... Val Loss: 1.3068\n",
            "Epoch: 18/20... Step: 2470... Loss: 1.2514... Val Loss: 1.3117\n",
            "Epoch: 18/20... Step: 2480... Loss: 1.2471... Val Loss: 1.3067\n",
            "Epoch: 18/20... Step: 2490... Loss: 1.2301... Val Loss: 1.3022\n",
            "Epoch: 18/20... Step: 2500... Loss: 1.2351... Val Loss: 1.3063\n",
            "Epoch: 19/20... Step: 2510... Loss: 1.2481... Val Loss: 1.3031\n",
            "Epoch: 19/20... Step: 2520... Loss: 1.2623... Val Loss: 1.3071\n",
            "Epoch: 19/20... Step: 2530... Loss: 1.2682... Val Loss: 1.3074\n",
            "Epoch: 19/20... Step: 2540... Loss: 1.2715... Val Loss: 1.3053\n",
            "Epoch: 19/20... Step: 2550... Loss: 1.2448... Val Loss: 1.3039\n",
            "Epoch: 19/20... Step: 2560... Loss: 1.2429... Val Loss: 1.3015\n",
            "Epoch: 19/20... Step: 2570... Loss: 1.2335... Val Loss: 1.3047\n",
            "Epoch: 19/20... Step: 2580... Loss: 1.2754... Val Loss: 1.3041\n",
            "Epoch: 19/20... Step: 2590... Loss: 1.2330... Val Loss: 1.3020\n",
            "Epoch: 19/20... Step: 2600... Loss: 1.2332... Val Loss: 1.3027\n",
            "Epoch: 19/20... Step: 2610... Loss: 1.2374... Val Loss: 1.3028\n",
            "Epoch: 19/20... Step: 2620... Loss: 1.2222... Val Loss: 1.2998\n",
            "Epoch: 19/20... Step: 2630... Loss: 1.2302... Val Loss: 1.2970\n",
            "Epoch: 19/20... Step: 2640... Loss: 1.2464... Val Loss: 1.2968\n",
            "Epoch: 20/20... Step: 2650... Loss: 1.2475... Val Loss: 1.3021\n",
            "Epoch: 20/20... Step: 2660... Loss: 1.2483... Val Loss: 1.3010\n",
            "Epoch: 20/20... Step: 2670... Loss: 1.2576... Val Loss: 1.2991\n",
            "Epoch: 20/20... Step: 2680... Loss: 1.2447... Val Loss: 1.3000\n",
            "Epoch: 20/20... Step: 2690... Loss: 1.2415... Val Loss: 1.2985\n",
            "Epoch: 20/20... Step: 2700... Loss: 1.2391... Val Loss: 1.2960\n",
            "Epoch: 20/20... Step: 2710... Loss: 1.2115... Val Loss: 1.2962\n",
            "Epoch: 20/20... Step: 2720... Loss: 1.2159... Val Loss: 1.2956\n",
            "Epoch: 20/20... Step: 2730... Loss: 1.2072... Val Loss: 1.2954\n",
            "Epoch: 20/20... Step: 2740... Loss: 1.2082... Val Loss: 1.2951\n",
            "Epoch: 20/20... Step: 2750... Loss: 1.2079... Val Loss: 1.2959\n",
            "Epoch: 20/20... Step: 2760... Loss: 1.2106... Val Loss: 1.2924\n",
            "Epoch: 20/20... Step: 2770... Loss: 1.2471... Val Loss: 1.2868\n",
            "Epoch: 20/20... Step: 2780... Loss: 1.2693... Val Loss: 1.2874\n"
          ],
          "name": "stdout"
        }
      ]
    },
    {
      "metadata": {
        "id": "XSUwcS_KNhIx",
        "colab_type": "text"
      },
      "cell_type": "markdown",
      "source": [
        "## Getting the best model\n",
        "\n",
        "To set your hyperparameters to get the best performance, you'll want to watch the training and validation losses. If your training loss is much lower than the validation loss, you're overfitting. Increase regularization (more dropout) or use a smaller network. If the training and validation losses are close, you're underfitting so you can increase the size of the network."
      ]
    },
    {
      "metadata": {
        "id": "-LQf-M-oNhIy",
        "colab_type": "text"
      },
      "cell_type": "markdown",
      "source": [
        "## Hyperparameters\n",
        "\n",
        "Here are the hyperparameters for the network.\n",
        "\n",
        "In defining the model:\n",
        "* `n_hidden` - The number of units in the hidden layers.\n",
        "* `n_layers` - Number of hidden LSTM layers to use.\n",
        "\n",
        "We assume that dropout probability and learning rate will be kept at the default, in this example.\n",
        "\n",
        "And in training:\n",
        "* `batch_size` - Number of sequences running through the network in one pass.\n",
        "* `seq_length` - Number of characters in the sequence the network is trained on. Larger is better typically, the network will learn more long range dependencies. But it takes longer to train. 100 is typically a good number here.\n",
        "* `lr` - Learning rate for training\n",
        "\n",
        "Here's some good advice from Andrej Karpathy on training the network. I'm going to copy it in here for your benefit, but also link to [where it originally came from](https://github.com/karpathy/char-rnn#tips-and-tricks).\n",
        "\n",
        "> ## Tips and Tricks\n",
        "\n",
        ">### Monitoring Validation Loss vs. Training Loss\n",
        ">If you're somewhat new to Machine Learning or Neural Networks it can take a bit of expertise to get good models. The most important quantity to keep track of is the difference between your training loss (printed during training) and the validation loss (printed once in a while when the RNN is run on the validation data (by default every 1000 iterations)). In particular:\n",
        "\n",
        "> - If your training loss is much lower than validation loss then this means the network might be **overfitting**. Solutions to this are to decrease your network size, or to increase dropout. For example you could try dropout of 0.5 and so on.\n",
        "> - If your training/validation loss are about equal then your model is **underfitting**. Increase the size of your model (either number of layers or the raw number of neurons per layer)\n",
        "\n",
        "> ### Approximate number of parameters\n",
        "\n",
        "> The two most important parameters that control the model are `n_hidden` and `n_layers`. I would advise that you always use `n_layers` of either 2/3. The `n_hidden` can be adjusted based on how much data you have. The two important quantities to keep track of here are:\n",
        "\n",
        "> - The number of parameters in your model. This is printed when you start training.\n",
        "> - The size of your dataset. 1MB file is approximately 1 million characters.\n",
        "\n",
        ">These two should be about the same order of magnitude. It's a little tricky to tell. Here are some examples:\n",
        "\n",
        "> - I have a 100MB dataset and I'm using the default parameter settings (which currently print 150K parameters). My data size is significantly larger (100 mil >> 0.15 mil), so I expect to heavily underfit. I am thinking I can comfortably afford to make `n_hidden` larger.\n",
        "> - I have a 10MB dataset and running a 10 million parameter model. I'm slightly nervous and I'm carefully monitoring my validation loss. If it's larger than my training loss then I may want to try to increase dropout a bit and see if that helps the validation loss.\n",
        "\n",
        "> ### Best models strategy\n",
        "\n",
        ">The winning strategy to obtaining very good models (if you have the compute time) is to always err on making the network larger (as large as you're willing to wait for it to compute) and then try different dropout values (between 0,1). Whatever model has the best validation performance (the loss, written in the checkpoint filename, low is good) is the one you should use in the end.\n",
        "\n",
        ">It is very common in deep learning to run many different models with many different hyperparameter settings, and in the end take whatever checkpoint gave the best validation performance.\n",
        "\n",
        ">By the way, the size of your training and validation splits are also parameters. Make sure you have a decent amount of data in your validation set or otherwise the validation performance will be noisy and not very informative."
      ]
    },
    {
      "metadata": {
        "id": "VXXSJU1iNhIz",
        "colab_type": "text"
      },
      "cell_type": "markdown",
      "source": [
        "## Checkpoint\n",
        "\n",
        "After training, we'll save the model so we can load it again later if we need too. Here I'm saving the parameters needed to create the same architecture, the hidden layer hyperparameters and the text characters."
      ]
    },
    {
      "metadata": {
        "id": "YWlUdrkHgSxl",
        "colab_type": "code",
        "colab": {
          "base_uri": "https://localhost:8080/",
          "height": 55
        },
        "outputId": "fd51dde8-5ea5-476f-8752-68ec20da1a3f"
      },
      "cell_type": "code",
      "source": [
        "#mounting google drive\n",
        "\n",
        "from google.colab import drive\n",
        "drive.mount('/content/gdrive')"
      ],
      "execution_count": 17,
      "outputs": [
        {
          "output_type": "stream",
          "text": [
            "Drive already mounted at /content/gdrive; to attempt to forcibly remount, call drive.mount(\"/content/gdrive\", force_remount=True).\n"
          ],
          "name": "stdout"
        }
      ]
    },
    {
      "metadata": {
        "id": "cbiKR1vLNhI0",
        "colab_type": "code",
        "colab": {}
      },
      "cell_type": "code",
      "source": [
        "# change the name, for saving multiple files\n",
        "model_name = 'rnn_x_epoch.net'\n",
        "\n",
        "checkpoint = {'n_hidden': net.n_hidden,\n",
        "              'n_layers': net.n_layers,\n",
        "              'state_dict': net.state_dict(),\n",
        "              'tokens': net.chars}\n",
        "\n",
        "path = F\"/content/gdrive/My Drive/{model_name}\"\n",
        "\n",
        "with open(path, 'wb') as f:\n",
        "    torch.save(checkpoint, f)\n",
        "  \n"
      ],
      "execution_count": 0,
      "outputs": []
    },
    {
      "metadata": {
        "id": "rvoLdyMVNhI2",
        "colab_type": "text"
      },
      "cell_type": "markdown",
      "source": [
        "---\n",
        "## Making Predictions\n",
        "\n",
        "Now that the model is trained, we'll want to sample from it and make predictions about next characters! To sample, we pass in a character and have the network predict the next character. Then we take that character, pass it back in, and get another predicted character. Just keep doing this and you'll generate a bunch of text!\n",
        "\n",
        "### A note on the `predict`  function\n",
        "\n",
        "The output of our RNN is from a fully-connected layer and it outputs a **distribution of next-character scores**.\n",
        "\n",
        "> To actually get the next character, we apply a softmax function, which gives us a *probability* distribution that we can then sample to predict the next character.\n",
        "\n",
        "### Top K sampling\n",
        "\n",
        "Our predictions come from a categorical probability distribution over all the possible characters. We can make the sample text and make it more reasonable to handle (with less variables) by only considering some $K$ most probable characters. This will prevent the network from giving us completely absurd characters while allowing it to introduce some noise and randomness into the sampled text. Read more about [topk, here](https://pytorch.org/docs/stable/torch.html#torch.topk).\n"
      ]
    },
    {
      "metadata": {
        "id": "aXo8JbbDNhI3",
        "colab_type": "code",
        "colab": {}
      },
      "cell_type": "code",
      "source": [
        "def predict(net, char, h=None, top_k=None):\n",
        "        ''' Given a character, predict the next character.\n",
        "            Returns the predicted character and the hidden state.\n",
        "        '''\n",
        "        \n",
        "        # tensor inputs\n",
        "        x = np.array([[net.char2int[char]]])\n",
        "        x = one_hot_encode(x, len(net.chars))\n",
        "        inputs = torch.from_numpy(x)\n",
        "        \n",
        "        if(train_on_gpu):\n",
        "            inputs = inputs.cuda()\n",
        "        \n",
        "        # detach hidden state from history\n",
        "        h = tuple([each.data for each in h])\n",
        "        # get the output of the model\n",
        "        out, h = net(inputs, h)\n",
        "\n",
        "        # get the character probabilities\n",
        "        p = F.softmax(out, dim=1).data\n",
        "        if(train_on_gpu):\n",
        "            p = p.cpu() # move to cpu\n",
        "        \n",
        "        # get top characters\n",
        "        if top_k is None:\n",
        "            top_ch = np.arange(len(net.chars))\n",
        "        else:\n",
        "            p, top_ch = p.topk(top_k)\n",
        "            top_ch = top_ch.numpy().squeeze()\n",
        "        \n",
        "        # select the likely next character with some element of randomness\n",
        "        p = p.numpy().squeeze()\n",
        "        char = np.random.choice(top_ch, p=p/p.sum())\n",
        "        \n",
        "        # return the encoded value of the predicted char and the hidden state\n",
        "        return net.int2char[char], h"
      ],
      "execution_count": 0,
      "outputs": []
    },
    {
      "metadata": {
        "id": "AyPhOc_rNhI5",
        "colab_type": "text"
      },
      "cell_type": "markdown",
      "source": [
        "### Priming and generating text \n",
        "\n",
        "Typically you'll want to prime the network so you can build up a hidden state. Otherwise the network will start out generating characters at random. In general the first bunch of characters will be a little rough since it hasn't built up a long history of characters to predict from."
      ]
    },
    {
      "metadata": {
        "id": "MqVC2AdNNhI6",
        "colab_type": "code",
        "colab": {}
      },
      "cell_type": "code",
      "source": [
        "def sample(net, size, prime='The', top_k=None):\n",
        "        \n",
        "    if(train_on_gpu):\n",
        "        net.cuda()\n",
        "    else:\n",
        "        net.cpu()\n",
        "    \n",
        "    net.eval() # eval mode\n",
        "    \n",
        "    # First off, run through the prime characters\n",
        "    chars = [ch for ch in prime]\n",
        "    h = net.init_hidden(1)\n",
        "    for ch in prime:\n",
        "        char, h = predict(net, ch, h, top_k=top_k)\n",
        "\n",
        "    chars.append(char)\n",
        "    \n",
        "    # Now pass in the previous character and get a new one\n",
        "    for ii in range(size):\n",
        "        char, h = predict(net, chars[-1], h, top_k=top_k)\n",
        "        chars.append(char)\n",
        "\n",
        "    return ''.join(chars)"
      ],
      "execution_count": 0,
      "outputs": []
    },
    {
      "metadata": {
        "id": "K11HM84eNhI8",
        "colab_type": "code",
        "colab": {
          "base_uri": "https://localhost:8080/",
          "height": 426
        },
        "outputId": "f54246d8-68b5-4c0d-c83a-30d7d0b24205"
      },
      "cell_type": "code",
      "source": [
        "print(sample(net, 1000, prime='Anna', top_k=5))"
      ],
      "execution_count": 21,
      "outputs": [
        {
          "output_type": "stream",
          "text": [
            "Anna. And simply ashimed in his solling than the\n",
            "mather with the marsh. He was saying that he had said his\n",
            "heart to be satisfied\n",
            "at him, the subject of the\n",
            "princess and the same\n",
            "side of the subject of the farity of his back and sevenal, and the more she came at the meaning of a minute. See his heart tears to his secret conscloncousing\n",
            "of was any old man at her friend, and those heart had now they\n",
            "terrible as the moment, and so in\n",
            "and\n",
            "happy, the marshal of house and the first start state of the feet of sorrow highense for, a little sort of arm, was\n",
            "thinking of the string with the corner of hos sones.\n",
            "\n",
            "\n",
            "\n",
            "Chapter 22\n",
            "\n",
            "\n",
            "Stepan Arkadyevitch, the post of\n",
            "the sore of all, an effert of his high the society of the sound of his sides, and\n",
            "so so as she had been seeing him as\n",
            "the mushless trampled and set him\n",
            "to him. And he was tired and sat to him, and all the sounds of side of his head. But he would never let him with this family were all at the times and society would not have a secular carriage the \n"
          ],
          "name": "stdout"
        }
      ]
    },
    {
      "metadata": {
        "id": "Mj79o-izNhJB",
        "colab_type": "text"
      },
      "cell_type": "markdown",
      "source": [
        "## Loading a checkpoint"
      ]
    },
    {
      "metadata": {
        "id": "k4V-WcumNhJB",
        "colab_type": "code",
        "colab": {}
      },
      "cell_type": "code",
      "source": [
        "# Here we have loaded in a model that trained over 20 epochs `rnn_20_epoch.net`\n",
        "with open('/content/gdrive/My Drive/rnn_x_epoch.net', 'rb') as f:\n",
        "    checkpoint = torch.load(f)\n",
        "\n",
        "\n",
        "    \n",
        "loaded = CharRNN(checkpoint['tokens'], n_hidden=checkpoint['n_hidden'], n_layers=checkpoint['n_layers'])\n",
        "loaded.load_state_dict(checkpoint['state_dict'])"
      ],
      "execution_count": 0,
      "outputs": []
    },
    {
      "metadata": {
        "id": "kbHgybBSNhJF",
        "colab_type": "code",
        "colab": {
          "base_uri": "https://localhost:8080/",
          "height": 656
        },
        "outputId": "ed00e62b-c95e-466f-a0cd-eb5623a37371"
      },
      "cell_type": "code",
      "source": [
        "# Sample using a loaded model\n",
        "print(sample(loaded, 2000, top_k=5, prime=\"And Levin said\"))"
      ],
      "execution_count": 23,
      "outputs": [
        {
          "output_type": "stream",
          "text": [
            "And Levin said.\n",
            "\n",
            "\"I have to go away. And the marvel it would be the muscrame than it's satisfaction and happy, then, that's the mush of her as if there is\n",
            "the passion of his both, I had not a fine of their carriage a low on their forgiven, of a little sound, but it was so a great\n",
            "deal, and\n",
            "he\n",
            "was the condition, and the minutess of the strange time all the fact that it were all the manssority and the first men, have\n",
            "all never had such a sick man, and what is the figure of the footman. But it seems all the same stands would have\n",
            "no round the\n",
            "matter, whomeer were not because that is there in the sole\n",
            "story of my\n",
            "people.\"\n",
            "\n",
            "\"Where dishos the start of the carriage, there they the same almost family? I am not abroad,\" said the same. \"Yes, but we all go on will alrows.\n",
            "And the other methed is an heart, and this was the portrait of this perform of\n",
            "an always work to that table of my change, and she has a condition of the princess and how all our\n",
            "presencing or has\n",
            "all this cals to the pircuses of the\n",
            "performance and supper, with walking of it. He's trying to say in this carte in the forest, and then at all. That share they're never taken in her son, and had all stersed it, I could not creath the charrition to be in all\n",
            "the\n",
            "clearly foor in that\n",
            "cass, terrous most asking all, and a member with the point or so incannadistent all him. I've seen him, and was to be so courted\n",
            "to made it, but I\n",
            "cannot go away; I am this awfully through it. They's a crowd of people and the money of any steps the better to this soul. It's not indeed.\" She was sawing hearing them and would have\n",
            "given\n",
            "up, and too that seemed\n",
            "that the sound of an exporined still.\n",
            "\n",
            "Twatting on the princess had seen was\n",
            "her sorts of tenters, and he were not strack at the moment. But\n",
            "she was to her, had been standing what the mistress of the moness of this way, at the moment of a professor\n",
            "was so that this chatch were clubled, he had to say about him as she drew, and the contemptuous meetings of the fact was\n",
            "now the princess.\n",
            "\n",
            "He felt that\n"
          ],
          "name": "stdout"
        }
      ]
    },
    {
      "metadata": {
        "id": "bGAKu-9DNhJH",
        "colab_type": "code",
        "colab": {}
      },
      "cell_type": "code",
      "source": [
        ""
      ],
      "execution_count": 0,
      "outputs": []
    }
  ]
}